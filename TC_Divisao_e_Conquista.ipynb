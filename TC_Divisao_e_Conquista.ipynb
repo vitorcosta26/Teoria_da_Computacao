{
  "nbformat": 4,
  "nbformat_minor": 0,
  "metadata": {
    "colab": {
      "name": "TC_Divisao_e_Conquista.ipynb",
      "provenance": []
    },
    "kernelspec": {
      "name": "python3",
      "display_name": "Python 3"
    },
    "language_info": {
      "name": "python"
    }
  },
  "cells": [
    {
      "cell_type": "markdown",
      "metadata": {
        "id": "yBXwN7NSJJVP"
      },
      "source": [
        "# Ordenação"
      ]
    },
    {
      "cell_type": "code",
      "metadata": {
        "id": "IUbclgR_ISDv"
      },
      "source": [
        "def MergeSort(vetor):\n",
        "\t# Dividir\n",
        "\ttamanho = len(vetor)\n",
        "\tif tamanho > 1:\n",
        "\t\tmeio = tamanho//2\n",
        "\t\tvetor1 = vetor[:meio]\n",
        "\t\tvetor2 = vetor[meio:]\n",
        "\t\tMergeSort(vetor1)\n",
        "\t\tMergeSort(vetor2)\n",
        "\t\t# Conquistar\n",
        "\t\ti = j = k = 0\n",
        "\t\twhile i < len(vetor1) and j < len(vetor2):\n",
        "\t\t\tif vetor1[i] < vetor2[j]:\n",
        "\t\t\t\tvetor[k] = vetor1[i]\n",
        "\t\t\t\ti+=1\n",
        "\t\t\telse:\n",
        "\t\t\t\tvetor[k] = vetor2[j]\n",
        "\t\t\t\tj+=1\n",
        "\t\t\tk+=1\n",
        "\t\t# Combinar\n",
        "\t\twhile i < len(vetor1):\n",
        "\t\t\tvetor[k] = vetor1[i]\n",
        "\t\t\ti+=1\n",
        "\t\t\tk+=1\n",
        "\t\twhile j < len(vetor2):\n",
        "\t\t\tvetor[k] = vetor2[j]\n",
        "\t\t\tj+=1\n",
        "\t\t\tk+=1\n",
        "\n",
        "\treturn vetor"
      ],
      "execution_count": 1,
      "outputs": []
    },
    {
      "cell_type": "markdown",
      "metadata": {
        "id": "RT09BzklI_ix"
      },
      "source": [
        "# Divisão e Conquista\n",
        "Merge Sort"
      ]
    },
    {
      "cell_type": "code",
      "metadata": {
        "id": "D9X4OL5EL4jJ",
        "outputId": "d81c5891-9464-493b-b1e9-ee5efa62aa39",
        "colab": {
          "base_uri": "https://localhost:8080/"
        }
      },
      "source": [
        "vetor1 = [9, 4, 3, 8, 6, 1, 7, 2, 5]\n",
        "MergeSort(vetor1)"
      ],
      "execution_count": 2,
      "outputs": [
        {
          "output_type": "execute_result",
          "data": {
            "text/plain": [
              "[1, 2, 3, 4, 5, 6, 7, 8, 9]"
            ]
          },
          "metadata": {
            "tags": []
          },
          "execution_count": 2
        }
      ]
    },
    {
      "cell_type": "code",
      "metadata": {
        "id": "J0Vxoi7LI4TP",
        "outputId": "cbb3b396-2a91-4c54-b2d4-c0dcf89ef3bb",
        "colab": {
          "base_uri": "https://localhost:8080/"
        }
      },
      "source": [
        "vetor2 = [1, 2, 3, 4, 5, 6, 7, 8, 9]\n",
        "MergeSort(vetor2)"
      ],
      "execution_count": 3,
      "outputs": [
        {
          "output_type": "execute_result",
          "data": {
            "text/plain": [
              "[1, 2, 3, 4, 5, 6, 7, 8, 9]"
            ]
          },
          "metadata": {
            "tags": []
          },
          "execution_count": 3
        }
      ]
    },
    {
      "cell_type": "code",
      "metadata": {
        "id": "gAu2VkPhI5b6",
        "outputId": "5adca5db-9ba3-41a3-d600-adf49376b48e",
        "colab": {
          "base_uri": "https://localhost:8080/"
        }
      },
      "source": [
        "\n",
        "vetor3 = [9, 8, 7, 6, 5, 4, 3, 2, 1]\n",
        "MergeSort(vetor3)"
      ],
      "execution_count": 4,
      "outputs": [
        {
          "output_type": "execute_result",
          "data": {
            "text/plain": [
              "[1, 2, 3, 4, 5, 6, 7, 8, 9]"
            ]
          },
          "metadata": {
            "tags": []
          },
          "execution_count": 4
        }
      ]
    }
  ]
}