{
  "nbformat": 4,
  "nbformat_minor": 0,
  "metadata": {
    "colab": {
      "name": "TC_Programacao_Dinamica.ipynb",
      "provenance": []
    },
    "kernelspec": {
      "name": "python3",
      "display_name": "Python 3"
    },
    "language_info": {
      "name": "python"
    }
  },
  "cells": [
    {
      "cell_type": "markdown",
      "metadata": {
        "id": "ERRiZyiRJ4Hb"
      },
      "source": [
        "# Sequência Numérica "
      ]
    },
    {
      "cell_type": "code",
      "metadata": {
        "id": "-xyYory7J0nY"
      },
      "source": [
        "def Fibonacci(n):\n",
        "\tif n==0:\n",
        "\t\treturn 0\n",
        "\telif n==1:\n",
        "\t\treturn 1\n",
        "\telse:\n",
        "\t\treturn Fibonacci(n-1)+Fibonacci(n-2)"
      ],
      "execution_count": 1,
      "outputs": []
    },
    {
      "cell_type": "markdown",
      "metadata": {
        "id": "EjRWPk6uKDQ8"
      },
      "source": [
        "# Programação Dinâmica\n",
        "Fibonacci"
      ]
    },
    {
      "cell_type": "code",
      "metadata": {
        "colab": {
          "base_uri": "https://localhost:8080/"
        },
        "id": "aSHHzgxIKHt6",
        "outputId": "311e7b9f-2c2e-4ef4-8b96-4f7de412760a"
      },
      "source": [
        "Fibonacci(9)"
      ],
      "execution_count": 2,
      "outputs": [
        {
          "output_type": "execute_result",
          "data": {
            "text/plain": [
              "34"
            ]
          },
          "metadata": {
            "tags": []
          },
          "execution_count": 2
        }
      ]
    },
    {
      "cell_type": "code",
      "metadata": {
        "colab": {
          "base_uri": "https://localhost:8080/"
        },
        "id": "k25HqgsmKYVz",
        "outputId": "26697456-cd29-4024-88c5-62baccea8254"
      },
      "source": [
        "Fibonacci(4)"
      ],
      "execution_count": 3,
      "outputs": [
        {
          "output_type": "execute_result",
          "data": {
            "text/plain": [
              "3"
            ]
          },
          "metadata": {
            "tags": []
          },
          "execution_count": 3
        }
      ]
    },
    {
      "cell_type": "code",
      "metadata": {
        "colab": {
          "base_uri": "https://localhost:8080/"
        },
        "id": "CG0cycVkKV1y",
        "outputId": "56c0ed4f-f33d-4c8e-a6a0-7d5500c16e9a"
      },
      "source": [
        "Fibonacci(30)"
      ],
      "execution_count": 4,
      "outputs": [
        {
          "output_type": "execute_result",
          "data": {
            "text/plain": [
              "832040"
            ]
          },
          "metadata": {
            "tags": []
          },
          "execution_count": 4
        }
      ]
    },
    {
      "cell_type": "code",
      "metadata": {
        "colab": {
          "base_uri": "https://localhost:8080/"
        },
        "id": "PEYCefUtK81h",
        "outputId": "281c8d85-c9f0-481e-ea43-a93461ab358f"
      },
      "source": [
        "Fibonacci(35)"
      ],
      "execution_count": 5,
      "outputs": [
        {
          "output_type": "execute_result",
          "data": {
            "text/plain": [
              "9227465"
            ]
          },
          "metadata": {
            "tags": []
          },
          "execution_count": 5
        }
      ]
    }
  ]
}